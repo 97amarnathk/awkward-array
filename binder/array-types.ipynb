{
 "cells": [
  {
   "cell_type": "markdown",
   "metadata": {},
   "source": [
    "# Array type specifications\n",
    "\n",
    "Instead of specifying a schema and building data to match it, type specifications are inferred from the structure of nested awkward arrays. These types are presented to the user as `awkward.type.Type` objects, which may be thought of as a generalization of Numpy's `shape`, `dtype`, and `masked` parameters.\n",
    "\n",
    "Not all awkward arrays make a difference in type: a `ChunkedArray` of `X`, for instance, simulates a plain array of `X`. There are five structures that should be distinguishable to a high-level user:\n",
    "\n",
    "   * **jaggedness:** some arrays contain arbitrary length subarrays\n",
    "   * **tables:** some arrays are indexed by an enumerated set of strings, rather than integers (\"product types\")\n",
    "   * **union:** some arrays represent tagged unions (\"sum types\")\n",
    "   * **optional:** some arrays are masked, representing unions with the N/A singleton\n",
    "   * **self-references:** some subarray components refer to cousins or ancestors on the tree of nested arrays"
   ]
  },
  {
   "cell_type": "code",
   "execution_count": 1,
   "metadata": {},
   "outputs": [],
   "source": [
    "import numpy\n",
    "from awkward.type import *"
   ]
  },
  {
   "cell_type": "markdown",
   "metadata": {},
   "source": [
    "## Representation of types\n",
    "\n",
    "We can get the `awkward.type.Type` of any Numpy or awkward array with `from_array` (calls an awkward array's `.type` property)."
   ]
  },
  {
   "cell_type": "code",
   "execution_count": 2,
   "metadata": {},
   "outputs": [
    {
     "data": {
      "text/plain": [
       "ArrayType(15, dtype('int64'))"
      ]
     },
     "execution_count": 2,
     "metadata": {},
     "output_type": "execute_result"
    }
   ],
   "source": [
    "from_array(numpy.arange(15))"
   ]
  },
  {
   "cell_type": "markdown",
   "metadata": {},
   "source": [
    "The `__repr__` string provides a constructor you could use to make the type yourself. However, it's not the easiest way to read complex types. Instead, use the `__str__` string."
   ]
  },
  {
   "cell_type": "code",
   "execution_count": 3,
   "metadata": {},
   "outputs": [
    {
     "name": "stdout",
     "output_type": "stream",
     "text": [
      "[0, 15) -> int64\n"
     ]
    }
   ],
   "source": [
    "print(from_array(numpy.arange(15)))"
   ]
  },
  {
   "cell_type": "markdown",
   "metadata": {},
   "source": [
    "Numpy arrays can be represented by the simplest `Type`: a linear composition of functions from finite-domain integers to either a `numpy.dtype` or another such function.\n",
    "\n",
    "The function we're referring to is the square brackets (`__getitem__`). The Numpy array below has shape `(3, 5)` and dtype `float64`, so\n",
    "\n",
    "   * you can pass an integer from 0 (inclusive) to 3 (exclusive) to get...\n",
    "   * something that you can pass an integer from 0 (inclusive) to 5 (exclusive) to get...\n",
    "   * a float64.\n",
    "\n",
    "Although you might normally pass several indexes to a Numpy array at a time (separated by columns, as an argument list), you _can_ pass one integer at a time to get a new object with one less dimension. Each of these objects may be thought of as a function of one argument, returning a function or a `numpy.dtype`. This is known as [currying](https://en.wikipedia.org/wiki/Currying)."
   ]
  },
  {
   "cell_type": "code",
   "execution_count": 4,
   "metadata": {},
   "outputs": [
    {
     "name": "stdout",
     "output_type": "stream",
     "text": [
      "[0, 3) -> [0, 5) -> float64\n"
     ]
    }
   ],
   "source": [
    "print(from_array(numpy.arange(15).reshape(3, 5).view(float)))"
   ]
  },
  {
   "cell_type": "markdown",
   "metadata": {},
   "source": [
    "## Jagged arrays\n",
    "\n",
    "Jagged (or \"ragged\") arrays go beyond Numpy arrays in that the size of subarrays is not fixed. Some subarrays may be empty, some may have size 1, some may have size 2, and some may have size 1 million. We represent that as a type with an infinite integer domain.\n",
    "\n",
    "Below is a jagged array of 10 subarrays, where the subarrays may have any sizes. (The type specification encodes the fixed size 10 but uses a single placeholder for all the unspecified sizes. These arrays can be very large!)"
   ]
  },
  {
   "cell_type": "code",
   "execution_count": 5,
   "metadata": {
    "scrolled": true
   },
   "outputs": [
    {
     "name": "stdout",
     "output_type": "stream",
     "text": [
      "[0, 10) -> [0, inf) -> float64\n"
     ]
    }
   ],
   "source": [
    "print(ArrayType(10, numpy.inf, float))"
   ]
  },
  {
   "cell_type": "markdown",
   "metadata": {},
   "source": [
    "Below is a jagged array whose contents are a Numpy array of fixed shape `(3, 5)`."
   ]
  },
  {
   "cell_type": "code",
   "execution_count": 6,
   "metadata": {
    "scrolled": true
   },
   "outputs": [
    {
     "name": "stdout",
     "output_type": "stream",
     "text": [
      "[0, 10) -> [0, inf) -> [0, 3) -> [0, 5) -> float64\n"
     ]
    }
   ],
   "source": [
    "print(ArrayType(10, numpy.inf, 3, 5, float))"
   ]
  },
  {
   "cell_type": "markdown",
   "metadata": {},
   "source": [
    "Below is a jagged array of jagged arrays of jagged arrays."
   ]
  },
  {
   "cell_type": "code",
   "execution_count": 7,
   "metadata": {},
   "outputs": [
    {
     "name": "stdout",
     "output_type": "stream",
     "text": [
      "[0, 10) -> [0, inf) -> [0, inf) -> [0, inf) -> float64\n"
     ]
    }
   ],
   "source": [
    "print(ArrayType(10, numpy.inf, numpy.inf, numpy.inf, float))"
   ]
  },
  {
   "cell_type": "markdown",
   "metadata": {},
   "source": [
    "Below is a jagged array whose index (`starts` and `stops`) has shape `(3, 5)`."
   ]
  },
  {
   "cell_type": "code",
   "execution_count": 8,
   "metadata": {},
   "outputs": [
    {
     "name": "stdout",
     "output_type": "stream",
     "text": [
      "[0, 3) -> [0, 5) -> [0, inf) -> float64\n"
     ]
    }
   ],
   "source": [
    "print(ArrayType(3, 5, numpy.inf, float))"
   ]
  },
  {
   "cell_type": "markdown",
   "metadata": {},
   "source": [
    "## Tables\n",
    "\n",
    "Numpy has structured arrays, which can be indexed by enumerated strings. This becomes a `Table` in awkward-array, which has an `awkward.type.TableType`."
   ]
  },
  {
   "cell_type": "code",
   "execution_count": 9,
   "metadata": {},
   "outputs": [
    {
     "name": "stdout",
     "output_type": "stream",
     "text": [
      "[0, 10) -> 'one' -> int64\n",
      "           'two' -> float64\n"
     ]
    }
   ],
   "source": [
    "print(from_array(numpy.array([(0, 0.0), (1, 1.1), (2, 2.2), (3, 3.3), (4, 4.4), (5, 5.5), (6, 6.6), (7, 7.7), (8, 8.8), (9, 9.9)], dtype=[(\"one\", int), (\"two\", float)])))"
   ]
  },
  {
   "cell_type": "markdown",
   "metadata": {},
   "source": [
    "We can construct the same thing by hand using the `&` operator (or the `awkward.type.TableType` constructor directly)."
   ]
  },
  {
   "cell_type": "code",
   "execution_count": 10,
   "metadata": {},
   "outputs": [
    {
     "name": "stdout",
     "output_type": "stream",
     "text": [
      "[0, 10) -> 'one' -> int64\n",
      "           'two' -> float64\n"
     ]
    }
   ],
   "source": [
    "print(ArrayType(10, ArrayType(\"one\", int) & ArrayType(\"two\", float)))"
   ]
  },
  {
   "cell_type": "markdown",
   "metadata": {},
   "source": [
    "Unlike Numpy arrays, the columns of an awkward `Table` can have different substructures from each other."
   ]
  },
  {
   "cell_type": "code",
   "execution_count": 11,
   "metadata": {},
   "outputs": [
    {
     "name": "stdout",
     "output_type": "stream",
     "text": [
      "[0, 10) -> 'one' -> [0, inf) -> int64\n",
      "           'two' -> float64\n"
     ]
    }
   ],
   "source": [
    "print(ArrayType(10, ArrayType(\"one\", numpy.inf, int) & ArrayType(\"two\", float)))"
   ]
  },
  {
   "cell_type": "markdown",
   "metadata": {},
   "source": [
    "And because you can pass a string to a `Table` to get a column or pass an integer to the same `Table` to get a row, string and integer indexes _commute._ (This is the same behavior as Numpy structured arrays.)"
   ]
  },
  {
   "cell_type": "code",
   "execution_count": 12,
   "metadata": {},
   "outputs": [
    {
     "name": "stdout",
     "output_type": "stream",
     "text": [
      "[0, 3) -> [0, 5) -> 'one' -> int64\n",
      "                    'two' -> float64\n",
      "[0, 3) -> 'one' -> [0, 5) -> int64\n",
      "          'two' -> [0, 5) -> float64\n"
     ]
    },
    {
     "data": {
      "text/plain": [
       "True"
      ]
     },
     "execution_count": 12,
     "metadata": {},
     "output_type": "execute_result"
    }
   ],
   "source": [
    "one = ArrayType(3, 5, ArrayType(\"one\", int) & ArrayType(\"two\", float))\n",
    "two = ArrayType(3, ArrayType(\"one\", 5, int) & ArrayType(\"two\", 5, float))\n",
    "print(one)\n",
    "print(two)\n",
    "one == two"
   ]
  },
  {
   "cell_type": "markdown",
   "metadata": {},
   "source": [
    "## Cross-references\n",
    "\n",
    "Another awkward-array feature is that nested elements can be cross-referenced. Among other things, allows us to express trees and graphs.\n",
    "\n",
    "_(Note: whether the following is a tree or a graph depends entirely on the array values. The type specification doesn't determine graph properties. Also, we have to let the children/left/right be jagged or optional so that finite trees are a possibility!)_"
   ]
  },
  {
   "cell_type": "code",
   "execution_count": 13,
   "metadata": {},
   "outputs": [
    {
     "name": "stdout",
     "output_type": "stream",
     "text": [
      "T0 := 'node_value' -> int64\n",
      "      'children'   -> [0, inf) -> T0\n"
     ]
    }
   ],
   "source": [
    "tree = ArrayType(\"node_value\", int)\n",
    "tree[\"children\"] = ArrayType(numpy.inf, tree)\n",
    "print(tree)"
   ]
  },
  {
   "cell_type": "code",
   "execution_count": 14,
   "metadata": {
    "scrolled": true
   },
   "outputs": [
    {
     "name": "stdout",
     "output_type": "stream",
     "text": [
      "T0 := 'node_value' -> int64\n",
      "      'left'       -> ?(T0)\n",
      "      'right'      -> ?(T0)\n"
     ]
    }
   ],
   "source": [
    "tree = ArrayType(\"node_value\", int)\n",
    "tree[\"left\"] = OptionType(tree)\n",
    "tree[\"right\"] = OptionType(tree)\n",
    "print(tree)"
   ]
  },
  {
   "cell_type": "markdown",
   "metadata": {},
   "source": [
    "## Unions\n",
    "\n",
    "To emulate heterogeneous lists, awkward-array allows for union types. Whereas a table has content for every column (string index) at every row (integer index), a union has content for only one of its possibilities at every row (integer index). Therefore, they're in a sense opposites: tables are \"product types\" constructed with `&` and unions are \"sum types\" constructed with `|`."
   ]
  },
  {
   "cell_type": "code",
   "execution_count": 15,
   "metadata": {},
   "outputs": [
    {
     "name": "stdout",
     "output_type": "stream",
     "text": [
      "[0, 10) -> ([0, 3) -> int64   |\n",
      "            [0, 5) -> float64 )\n"
     ]
    }
   ],
   "source": [
    "print(ArrayType(10, ArrayType(3, int) | ArrayType(5, float)))"
   ]
  },
  {
   "cell_type": "markdown",
   "metadata": {},
   "source": [
    "The possibilities of a union may be tables. In the string representation, note the location of the `|`, which distinguishes records with `{\"one\", \"two\"}` fields from records with `{\"uno\", \"dos\", \"tres\"}` fields.\n",
    "\n",
    "(`&` has tighter binding than `|`)"
   ]
  },
  {
   "cell_type": "code",
   "execution_count": 16,
   "metadata": {},
   "outputs": [
    {
     "name": "stdout",
     "output_type": "stream",
     "text": [
      "[0, 10) -> ('one' -> int64\n",
      "            'two' -> float64  |\n",
      "            'uno'  -> bool\n",
      "            'dos'  -> int64\n",
      "            'tres' -> float64 )\n"
     ]
    }
   ],
   "source": [
    "print(ArrayType(10, ArrayType(\"one\", int) & ArrayType(\"two\", float) | ArrayType(\"uno\", bool) & ArrayType(\"dos\", int) & ArrayType(\"tres\", float)))"
   ]
  },
  {
   "cell_type": "markdown",
   "metadata": {},
   "source": [
    "All of the above can be applied to make truly complex types. There's as much flexibility in this type system as in a simple but usable programming language."
   ]
  },
  {
   "cell_type": "code",
   "execution_count": 17,
   "metadata": {},
   "outputs": [
    {
     "name": "stdout",
     "output_type": "stream",
     "text": [
      "T0 := [0, 10) -> ([0, inf) -> 'one' -> int64\n",
      "                              'two' -> float64               |\n",
      "                  'uno'  -> bool\n",
      "                  'dos'  -> ?(int64)\n",
      "                  'tres' -> T0                               |\n",
      "                  [0, 5) -> [0, 3) -> ?([0, inf) -> float64) )\n"
     ]
    }
   ],
   "source": [
    "t = ArrayType(10, ArrayType(numpy.inf, ArrayType(\"one\", int) & ArrayType(\"two\", float)) | ArrayType(\"uno\", bool) & ArrayType(\"dos\", OptionType(int)) & ArrayType(\"tres\", float) | ArrayType(5, 3, OptionType(ArrayType(numpy.inf, float))))\n",
    "t.to[1][\"tres\"] = t\n",
    "print(t)"
   ]
  }
 ],
 "metadata": {
  "kernelspec": {
   "display_name": "Python 2",
   "language": "python",
   "name": "python2"
  },
  "language_info": {
   "codemirror_mode": {
    "name": "ipython",
    "version": 2
   },
   "file_extension": ".py",
   "mimetype": "text/x-python",
   "name": "python",
   "nbconvert_exporter": "python",
   "pygments_lexer": "ipython2",
   "version": "2.7.12"
  }
 },
 "nbformat": 4,
 "nbformat_minor": 2
}
